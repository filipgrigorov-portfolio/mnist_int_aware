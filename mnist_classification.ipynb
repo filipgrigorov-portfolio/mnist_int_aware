{
 "cells": [
  {
   "cell_type": "code",
   "execution_count": 1,
   "id": "40469f3e-d7e9-4155-a6d8-d79d391e627e",
   "metadata": {},
   "outputs": [
    {
     "name": "stdout",
     "output_type": "stream",
     "text": [
      "Device found: cuda\n"
     ]
    }
   ],
   "source": [
    "from net import MNISTClassifier"
   ]
  },
  {
   "cell_type": "code",
   "execution_count": 2,
   "id": "ef819809-35ed-4141-b7e6-3376dea5728c",
   "metadata": {},
   "outputs": [
    {
     "name": "stdout",
     "output_type": "stream",
     "text": [
      "Training:: [2500 / 60000]: loss_i=1.3069  -  loss_avg=1.4566  -  acc_i=0.6  -  acc_avg=0.5172  -  time_i=1.3807 ms\n",
      "Validation:: [10000 / 10000]: val_loss_avg=0.4748  -  val_acc_avg=0.8\n",
      "Training:: [5000 / 60000]: loss_i=1.6087  -  loss_avg=1.182  -  acc_i=0.6  -  acc_avg=0.6144  -  time_i=1.3196 ms\n",
      "Validation:: [10000 / 10000]: val_loss_avg=0.1478  -  val_acc_avg=1.0\n",
      "Training:: [7500 / 60000]: loss_i=0.285  -  loss_avg=1.0264  -  acc_i=1.0  -  acc_avg=0.6781  -  time_i=1.317 ms\n",
      "Validation:: [10000 / 10000]: val_loss_avg=0.0286  -  val_acc_avg=1.0\n",
      "Training:: [10000 / 60000]: loss_i=0.7962  -  loss_avg=0.9401  -  acc_i=0.8  -  acc_avg=0.7084  -  time_i=1.3268 ms\n",
      "Validation:: [10000 / 10000]: val_loss_avg=0.0285  -  val_acc_avg=1.0\n",
      "Training:: [12500 / 60000]: loss_i=0.6555  -  loss_avg=0.8643  -  acc_i=0.8  -  acc_avg=0.7356  -  time_i=1.4043 ms\n",
      "Validation:: [10000 / 10000]: val_loss_avg=0.0931  -  val_acc_avg=1.0\n",
      "Training:: [15000 / 60000]: loss_i=0.1923  -  loss_avg=0.8106  -  acc_i=0.8  -  acc_avg=0.7547  -  time_i=1.5123 ms\n",
      "Validation:: [10000 / 10000]: val_loss_avg=0.0313  -  val_acc_avg=1.0\n",
      "Training:: [17500 / 60000]: loss_i=0.1204  -  loss_avg=0.7691  -  acc_i=1.0  -  acc_avg=0.7705  -  time_i=1.4806 ms\n",
      "Validation:: [10000 / 10000]: val_loss_avg=0.0494  -  val_acc_avg=1.0\n",
      "Training:: [20000 / 60000]: loss_i=0.3643  -  loss_avg=0.7344  -  acc_i=0.8  -  acc_avg=0.7826  -  time_i=1.3463 ms\n",
      "Validation:: [10000 / 10000]: val_loss_avg=0.1001  -  val_acc_avg=1.0\n",
      "Training:: [22500 / 60000]: loss_i=0.7502  -  loss_avg=0.7037  -  acc_i=0.6  -  acc_avg=0.7928  -  time_i=1.3726 ms\n",
      "Validation:: [10000 / 10000]: val_loss_avg=0.6303  -  val_acc_avg=0.8\n",
      "Training:: [25000 / 60000]: loss_i=0.0809  -  loss_avg=0.6772  -  acc_i=1.0  -  acc_avg=0.8026  -  time_i=1.7922 ms\n",
      "Validation:: [10000 / 10000]: val_loss_avg=0.0148  -  val_acc_avg=1.0\n",
      "Training:: [27500 / 60000]: loss_i=0.0785  -  loss_avg=0.6593  -  acc_i=1.0  -  acc_avg=0.8085  -  time_i=1.3461 ms\n",
      "Validation:: [10000 / 10000]: val_loss_avg=0.0357  -  val_acc_avg=1.0\n",
      "Training:: [30000 / 60000]: loss_i=0.1669  -  loss_avg=0.6388  -  acc_i=1.0  -  acc_avg=0.8157  -  time_i=1.3788 ms\n",
      "Validation:: [10000 / 10000]: val_loss_avg=0.0058  -  val_acc_avg=1.0\n",
      "Training:: [32500 / 60000]: loss_i=0.0372  -  loss_avg=0.622  -  acc_i=1.0  -  acc_avg=0.8216  -  time_i=1.5054 ms\n",
      "Validation:: [10000 / 10000]: val_loss_avg=0.004  -  val_acc_avg=1.0\n",
      "Training:: [35000 / 60000]: loss_i=0.1226  -  loss_avg=0.6062  -  acc_i=1.0  -  acc_avg=0.8267  -  time_i=1.3466 ms\n",
      "Validation:: [10000 / 10000]: val_loss_avg=0.0056  -  val_acc_avg=1.0\n",
      "Training:: [37500 / 60000]: loss_i=0.0393  -  loss_avg=0.5917  -  acc_i=1.0  -  acc_avg=0.8319  -  time_i=1.3461 ms\n",
      "Validation:: [10000 / 10000]: val_loss_avg=0.001  -  val_acc_avg=1.0\n",
      "Training:: [40000 / 60000]: loss_i=0.4125  -  loss_avg=0.5796  -  acc_i=0.8  -  acc_avg=0.8355  -  time_i=1.3382 ms\n",
      "Validation:: [10000 / 10000]: val_loss_avg=0.0089  -  val_acc_avg=1.0\n",
      "Training:: [42500 / 60000]: loss_i=0.1861  -  loss_avg=0.5674  -  acc_i=1.0  -  acc_avg=0.8397  -  time_i=1.3719 ms\n",
      "Validation:: [10000 / 10000]: val_loss_avg=0.0069  -  val_acc_avg=1.0\n",
      "Training:: [45000 / 60000]: loss_i=0.1882  -  loss_avg=0.5565  -  acc_i=1.0  -  acc_avg=0.8436  -  time_i=1.3931 ms\n",
      "Validation:: [10000 / 10000]: val_loss_avg=0.0016  -  val_acc_avg=1.0\n",
      "Training:: [47500 / 60000]: loss_i=0.4712  -  loss_avg=0.5482  -  acc_i=1.0  -  acc_avg=0.8466  -  time_i=1.3664 ms\n",
      "Validation:: [10000 / 10000]: val_loss_avg=0.0063  -  val_acc_avg=1.0\n",
      "Training:: [50000 / 60000]: loss_i=0.8582  -  loss_avg=0.5368  -  acc_i=0.8  -  acc_avg=0.8501  -  time_i=1.5349 ms\n",
      "Validation:: [10000 / 10000]: val_loss_avg=0.0349  -  val_acc_avg=1.0\n",
      "Training:: [52500 / 60000]: loss_i=0.0583  -  loss_avg=0.5273  -  acc_i=1.0  -  acc_avg=0.853  -  time_i=1.3375 ms\n",
      "Validation:: [10000 / 10000]: val_loss_avg=0.0047  -  val_acc_avg=1.0\n",
      "Training:: [55000 / 60000]: loss_i=0.1323  -  loss_avg=0.5186  -  acc_i=1.0  -  acc_avg=0.856  -  time_i=1.4095 ms\n",
      "Validation:: [10000 / 10000]: val_loss_avg=0.0096  -  val_acc_avg=1.0\n",
      "Training:: [57500 / 60000]: loss_i=0.8746  -  loss_avg=0.5097  -  acc_i=0.8  -  acc_avg=0.8589  -  time_i=1.4384 ms\n",
      "Validation:: [10000 / 10000]: val_loss_avg=0.1967  -  val_acc_avg=1.0\n",
      "Training:: [60000 / 60000]: loss_i=0.0338  -  loss_avg=0.502  -  acc_i=1.0  -  acc_avg=0.8612  -  time_i=1.3208 ms\n",
      "Validation:: [10000 / 10000]: val_loss_avg=0.0105  -  val_acc_avg=1.0\n",
      "Saving model\n",
      "\n",
      "Training is complete\n",
      "\n"
     ]
    }
   ],
   "source": [
    "model = MNISTClassifier()\n",
    "\n",
    "nepochs = 1\n",
    "batch_size = 5\n",
    "lr = 1e-2\n",
    "momentum = 0.9\n",
    "\n",
    "train_data, val_data, test_data = model.split_data()\n",
    "model.train(nepochs, batch_size, lr, momentum, train_data, val_data)"
   ]
  },
  {
   "cell_type": "code",
   "execution_count": null,
   "id": "51f1c405-c636-41a1-b923-241f5d90a08b",
   "metadata": {},
   "outputs": [],
   "source": []
  }
 ],
 "metadata": {
  "kernelspec": {
   "display_name": "Python 3",
   "language": "python",
   "name": "python3"
  },
  "language_info": {
   "codemirror_mode": {
    "name": "ipython",
    "version": 3
   },
   "file_extension": ".py",
   "mimetype": "text/x-python",
   "name": "python",
   "nbconvert_exporter": "python",
   "pygments_lexer": "ipython3",
   "version": "3.9.7"
  }
 },
 "nbformat": 4,
 "nbformat_minor": 5
}
