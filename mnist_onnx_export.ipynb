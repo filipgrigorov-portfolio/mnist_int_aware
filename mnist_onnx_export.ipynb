{
 "cells": [
  {
   "cell_type": "code",
   "execution_count": 1,
   "id": "96df7445-2a0c-441a-8f6c-a37d9290cb18",
   "metadata": {},
   "outputs": [
    {
     "name": "stdout",
     "output_type": "stream",
     "text": [
      "Device found: cuda\n"
     ]
    }
   ],
   "source": [
    "import imageio\n",
    "import matplotlib.pyplot as plt\n",
    "import numpy as np\n",
    "import onnx\n",
    "import onnxruntime as ort\n",
    "import torch.onnx\n",
    "\n",
    "from net import MNISTClassifier\n",
    "\n",
    "%matplotlib inline"
   ]
  },
  {
   "cell_type": "code",
   "execution_count": 2,
   "id": "d9ccd37e-5a4b-4572-8d8f-1b24585a9a8a",
   "metadata": {},
   "outputs": [],
   "source": [
    "def export_to_onnx(net, batch_size, channels, height, width, name='mnist_classification.onnx'):\n",
    "        print('Saving onnx IR')\n",
    "        net.eval()\n",
    "        sample_input_tensor = torch.randn(batch_size, channels, height, width)\n",
    "        torch.onnx.export(\n",
    "            net,\n",
    "            sample_input_tensor,\n",
    "            name,\n",
    "            export_params=True,\n",
    "            opset_version=11,\n",
    "            do_constant_folding=True,\n",
    "            input_names=['mnist_data'],\n",
    "            output_names=['mnist_class'],\n",
    "            dynamic_axes={'input' : {0 : 'batch_size'}, 'output' : {0 : 'batch_size'}}\n",
    "        )"
   ]
  },
  {
   "cell_type": "code",
   "execution_count": 3,
   "id": "5766055e-c227-46d5-8d90-c505fd42cde9",
   "metadata": {},
   "outputs": [
    {
     "name": "stdout",
     "output_type": "stream",
     "text": [
      "Saving onnx IR\n"
     ]
    },
    {
     "name": "stderr",
     "output_type": "stream",
     "text": [
      "/home/filip.grigorov/anaconda3/envs/ml_cuda11.2/lib/python3.9/site-packages/torch/onnx/utils.py:1294: UserWarning: Provided key input for dynamic axes is not a valid input/output name\n",
      "  warnings.warn(\"Provided key {} for dynamic axes is not a valid input/output name\".format(key))\n",
      "/home/filip.grigorov/anaconda3/envs/ml_cuda11.2/lib/python3.9/site-packages/torch/onnx/utils.py:1294: UserWarning: Provided key output for dynamic axes is not a valid input/output name\n",
      "  warnings.warn(\"Provided key {} for dynamic axes is not a valid input/output name\".format(key))\n"
     ]
    }
   ],
   "source": [
    "model = MNISTClassifier()\n",
    "model.load_pretrained('mnist.pth')\n",
    "\n",
    "batch_size = 1\n",
    "export_to_onnx(model.net.cpu(), batch_size, 1, 28, 28)"
   ]
  },
  {
   "cell_type": "code",
   "execution_count": 4,
   "id": "fb45a8ac-a822-479b-97c0-c2b6f5739a21",
   "metadata": {},
   "outputs": [
    {
     "name": "stdout",
     "output_type": "stream",
     "text": [
      "None\n"
     ]
    }
   ],
   "source": [
    "loaded_model = onnx.load('mnist_classification.onnx')\n",
    "print(onnx.checker.check_model(loaded_model))"
   ]
  },
  {
   "cell_type": "code",
   "execution_count": 5,
   "id": "7a9f3d46-156c-4820-8733-40c4d3cc464e",
   "metadata": {},
   "outputs": [],
   "source": [
    "_, _, test_data = model.split_data()"
   ]
  },
  {
   "cell_type": "code",
   "execution_count": 6,
   "id": "8661304d-ed46-4e8e-bc97-174c017cbaaa",
   "metadata": {},
   "outputs": [
    {
     "data": {
      "image/png": "[encoded data removed]",
      "text/plain": [
       "<Figure size 720x720 with 3 Axes>"
      ]
     },
     "metadata": {
      "needs_background": "light"
     },
     "output_type": "display_data"
    }
   ],
   "source": [
    "sample_data= [ \n",
    "    test_data[0], \n",
    "    test_data[1], \n",
    "    test_data[2] \n",
    "]\n",
    "\n",
    "TYPE = np.uint8\n",
    "MEAN = 0.1307\n",
    "STD = 0.3081\n",
    "\n",
    "fig, axes = plt.subplots(1, 3, figsize=(10, 10))\n",
    "axes[0].set_title(sample_data[0][1])\n",
    "img = sample_data[0][0].numpy().transpose(1, 2, 0)\n",
    "#img *= STD\n",
    "#img += MEAN\n",
    "#img *= 255\n",
    "\n",
    "axes[0].imshow(img, cmap='gray')\n",
    "#imageio.imwrite(f'mnist_{sample_data[0][1]}.jpg', img.astype(TYPE))\n",
    "\n",
    "axes[1].set_title(sample_data[1][1])\n",
    "img = sample_data[1][0].numpy()\n",
    "img = img.transpose(1, 2, 0)\n",
    "#img *= STD\n",
    "#img += MEAN\n",
    "#img *= 255\n",
    "\n",
    "axes[1].imshow(img, cmap='gray')\n",
    "#imageio.imwrite(f'mnist_{sample_data[1][1]}.jpg', img.astype(TYPE))\n",
    "\n",
    "axes[2].set_title(sample_data[2][1])\n",
    "img = sample_data[2][0].numpy().transpose(1, 2, 0)\n",
    "#img *= STD\n",
    "#img += MEAN\n",
    "#img *= 255\n",
    "\n",
    "axes[2].imshow(img, cmap='gray')\n",
    "#imageio.imwrite(f'mnist_{sample_data[2][1]}.jpg', img.astype(TYPE))\n",
    "\n",
    "plt.show()"
   ]
  },
  {
   "cell_type": "code",
   "execution_count": 7,
   "id": "e59ea13e-6262-4694-acb9-a0385a5c645a",
   "metadata": {},
   "outputs": [
    {
     "name": "stdout",
     "output_type": "stream",
     "text": [
      "[5 3 9]\n"
     ]
    }
   ],
   "source": [
    "x = torch.cat([ sample_data[0][0].unsqueeze(0), sample_data[1][0].unsqueeze(0), sample_data[2][0].unsqueeze(0) ], dim=0)\n",
    "predictions = model.infer(x).numpy()\n",
    "\n",
    "print(predictions)"
   ]
  },
  {
   "cell_type": "code",
   "execution_count": 8,
   "id": "9cfd4a8b-e331-4fe1-b89d-27db5aa494e4",
   "metadata": {},
   "outputs": [
    {
     "name": "stdout",
     "output_type": "stream",
     "text": [
      "[5, 3, 9]\n"
     ]
    }
   ],
   "source": [
    "ort_session = ort.InferenceSession(\"mnist_classification.onnx\")\n",
    "\n",
    "# Note: No dynamic batching\n",
    "predictions = []\n",
    "for x in sample_data:\n",
    "    x = x[0].unsqueeze(0).cpu().numpy()\n",
    "    ort_inputs = {ort_session.get_inputs()[0].name: x}\n",
    "    predictions.append(np.argmax(ort_session.run(None, ort_inputs)))\n",
    "    \n",
    "print(predictions)"
   ]
  },
  {
   "cell_type": "code",
   "execution_count": null,
   "id": "38edcc6e-9bde-48fb-82e7-f74134a4abe7",
   "metadata": {},
   "outputs": [],
   "source": []
  }
 ],
 "metadata": {
  "kernelspec": {
   "display_name": "Python 3",
   "language": "python",
   "name": "python3"
  },
  "language_info": {
   "codemirror_mode": {
    "name": "ipython",
    "version": 3
   },
   "file_extension": ".py",
   "mimetype": "text/x-python",
   "name": "python",
   "nbconvert_exporter": "python",
   "pygments_lexer": "ipython3",
   "version": "3.9.7"
  }
 },
 "nbformat": 4,
 "nbformat_minor": 5
}
