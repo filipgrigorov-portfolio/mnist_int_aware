{
 "cells": [
  {
   "cell_type": "code",
   "execution_count": 1,
   "id": "ca17d684-a419-43d9-a5c1-50c7007f155f",
   "metadata": {},
   "outputs": [],
   "source": [
    "import numpy as np\n",
    "\n",
    "np.random.seed(1)\n",
    "\n",
    "# Y = XW + b (simple forward pass)"
   ]
  },
  {
   "cell_type": "code",
   "execution_count": 2,
   "id": "206d2317-a921-4023-b0ae-dcd1dae1dcbc",
   "metadata": {},
   "outputs": [],
   "source": [
    "def matmul_float(X, W, b):\n",
    "    return X @ W + b\n",
    "\n",
    "def parameters(Qmin, Qmax, Xmin, Xmax, Wmin, Wmax, bmin, bmax):\n",
    "    q_range = Qmax - Qmin\n",
    "    sx = (Xmax - Xmin) / q_range\n",
    "    sw = (Wmax - Wmin) / q_range\n",
    "    sb = (bmax - bmin) / q_range\n",
    "    zx = np.round((Xmax * Qmin - Xmin * Qmax) / (Xmax - Xmin))\n",
    "    zw = np.round((Wmax * Qmin - Wmin * Qmax) / (Wmax - Wmin))\n",
    "    zb = np.round((bmax * Qmin - bmin * Qmax) / (bmax - bmin))\n",
    "    return sx, sw, sb, zx, zw, zb\n",
    "\n",
    "def quantize(N, s, z, Qmin, Qmax):\n",
    "    return np.clip(np.round(N / s + z), Qmin, Qmax)\n",
    "\n",
    "def dequantize(Nq, s, z):\n",
    "    return np.float32(s * (Nq - z))\n",
    "\n",
    "def matmul_int8(Xq, Wq, bq, sx, sw, sb, zx, zw, zb):\n",
    "    product = np.int8(sx * sw * (Xq @ Wq))\n",
    "    # Note: summation along the P axis\n",
    "    # [MxP]\n",
    "    inputs_scale = np.int8(sx * sw * zw * np.sum(Xq, axis=1, keepdims=True))\n",
    "    # [PxN]\n",
    "    weights_scale = np.int8(sx * sw * zx * np.sum(Wq, axis=0, keepdims=True))\n",
    "    offsets_scale = np.int8(sx * sw * zx * zw)\n",
    "    biases_scale = np.int8(sb * (bq - zb))\n",
    "    print(f'product: {product.shape}\\n')\n",
    "    print(f'inputs_scale: {inputs_scale.shape}\\n')\n",
    "    print(f'weights_scale: {weights_scale.shape}\\n')\n",
    "    print(f'offsets_scale: {offsets_scale}\\n')\n",
    "    print(f'biases_scale: {biases_scale.shape}\\n')\n",
    "    return (product - inputs_scale - weights_scale + offsets_scale + biases_scale).astype(np.int8)"
   ]
  },
  {
   "cell_type": "code",
   "execution_count": 3,
   "id": "74a6a35e-09fb-45c9-a024-e44622f10bc3",
   "metadata": {},
   "outputs": [
    {
     "name": "stdout",
     "output_type": "stream",
     "text": [
      "X: [[26.68088  38.81298  10.004575 22.093304]\n",
      " [15.870235 13.693543 17.450409 23.82243 ]]\n",
      "\n",
      "W: [[0.39676747 0.53881675 0.41919452 0.6852195 ]\n",
      " [0.20445225 0.87811744 0.02738759 0.6704675 ]\n",
      " [0.4173048  0.55868983 0.14038694 0.19810149]\n",
      " [0.8007446  0.9682616  0.31342417 0.6923226 ]]\n",
      "\n",
      "b: [[27.527782  27.892134  11.700884  10.7810955]]\n",
      "\n",
      "X: (2, 4)\n",
      "\n",
      "W: (4, 4)\n",
      "\n",
      "b: (1, 4)\n",
      "\n"
     ]
    }
   ],
   "source": [
    "M = 2;N = 4;P = 4;\n",
    "\n",
    "Xmin = 10; Xmax = 50\n",
    "Wmin = 0; Wmax = 1\n",
    "bmin = 10; bmax = 30\n",
    "\n",
    "# [MxP] - 2x3\n",
    "X = np.random.uniform(10, 50, (M, P)).astype(np.float32)\n",
    "# [PxN] - 3x4\n",
    "W = np.random.uniform(0, 1, (P, N)).astype(np.float32)\n",
    "# [1xN] - 1x4\n",
    "b = np.random.uniform(10, 30, (1, N)).astype(np.float32)\n",
    "\n",
    "print(f'X: {X}\\n')\n",
    "print(f'W: {W}\\n')\n",
    "print(f'b: {b}\\n')\n",
    "\n",
    "print(f'X: {X.shape}\\n')\n",
    "print(f'W: {W.shape}\\n')\n",
    "print(f'b: {b.shape}\\n')"
   ]
  },
  {
   "cell_type": "code",
   "execution_count": 4,
   "id": "1274ec6f-6d96-483e-b05f-95b0ff162b0d",
   "metadata": {},
   "outputs": [
    {
     "name": "stdout",
     "output_type": "stream",
     "text": [
      "Y_float: [[ 67.915344 103.332146  32.277443  72.36381 ]\n",
      " [ 62.98207   81.28353   28.644968  50.78653 ]]\n",
      "\n",
      "Y_float: (2, 4)\n",
      "\n"
     ]
    }
   ],
   "source": [
    "Y_float = matmul_float(X, W, b)\n",
    "print(f'Y_float: {Y_float}\\n')\n",
    "print(f'Y_float: {Y_float.shape}\\n')"
   ]
  },
  {
   "cell_type": "code",
   "execution_count": 5,
   "id": "69503828-3281-414a-b28c-4fbe5017318c",
   "metadata": {},
   "outputs": [
    {
     "name": "stdout",
     "output_type": "stream",
     "text": [
      "quantization: [-127, 127]\n",
      "\n",
      "parameters: 0.15748031496062992, 0.003937007874015748, 0.07874015748031496, -190.0, -127.0, -254.0\n",
      "\n",
      "Xq: [[ -21.   56. -126.  -50.]\n",
      " [ -89. -103.  -79.  -39.]]\n",
      "\n",
      "Wq: [[ -26.   10.  -21.   47.]\n",
      " [ -75.   96. -120.   43.]\n",
      " [ -21.   15.  -91.  -77.]\n",
      " [  76.  119.  -47.   49.]]\n",
      "\n",
      "bq: [[  96.  100. -105. -117.]]\n",
      "\n"
     ]
    }
   ],
   "source": [
    "bit = 8\n",
    "Qmin = -2**(bit - 1) + 1\n",
    "Qmax = 2**(bit - 1) - 1\n",
    "print(f'quantization: [{Qmin}, {Qmax}]\\n')\n",
    "sx, sw, sb, zx, zw, zb = parameters(Qmin, Qmax, Xmin, Xmax, Wmin, Wmax, bmin, bmax)\n",
    "\n",
    "print(f'parameters: {sx}, {sw}, {sb}, {zx}, {zw}, {zb}\\n')\n",
    "\n",
    "Xq = quantize(X, sx, zx, Qmin, Qmax)\n",
    "Wq = quantize(W, sw, zw, Qmin, Qmax)\n",
    "bq = quantize(b, sb, zb, Qmin, Qmax)\n",
    "\n",
    "print(f'Xq: {Xq}\\n')\n",
    "print(f'Wq: {Wq}\\n')\n",
    "print(f'bq: {bq}\\n')"
   ]
  },
  {
   "cell_type": "code",
   "execution_count": 6,
   "id": "e65cc1e9-d9dc-4b9e-afd7-b01ce3e9d73c",
   "metadata": {},
   "outputs": [
    {
     "name": "stdout",
     "output_type": "stream",
     "text": [
      "product: (2, 4)\n",
      "\n",
      "inputs_scale: (2, 1)\n",
      "\n",
      "weights_scale: (1, 4)\n",
      "\n",
      "offsets_scale: 14\n",
      "\n",
      "biases_scale: (1, 4)\n",
      "\n",
      "Y_int8: [[ 23  57 -14  25]\n",
      " [ 17  35 -17   5]]\n",
      "\n"
     ]
    }
   ],
   "source": [
    "Y_int8 = matmul_int8(Xq, Wq, bq, sx, sw, sb, zx, zw, zb)\n",
    "print(f'Y_int8: {Y_int8}\\n')"
   ]
  },
  {
   "cell_type": "code",
   "execution_count": 7,
   "id": "e781d06a-ab35-42d4-a18f-6e1a27990897",
   "metadata": {},
   "outputs": [
    {
     "name": "stdout",
     "output_type": "stream",
     "text": [
      "Y_dequantized_float: [[64.96063  79.685036 48.937008 65.826775]\n",
      " [62.362206 70.15748  47.637794 57.165356]]\n"
     ]
    }
   ],
   "source": [
    "Ymin = 0;Ymax = 110\n",
    "q_range = Qmax - Qmin\n",
    "s = (Ymax - Ymin) / q_range\n",
    "z = np.round((Ymax * Qmin - Ymin * Qmax) / (Ymax - Ymin))\n",
    "Y_dequantized_float = dequantize(Y_int8, s, z)\n",
    "print(f'Y_dequantized_float: {Y_dequantized_float}')"
   ]
  },
  {
   "cell_type": "code",
   "execution_count": null,
   "id": "3c455138-79ea-4ddd-a9fe-2859e0559080",
   "metadata": {},
   "outputs": [],
   "source": []
  }
 ],
 "metadata": {
  "kernelspec": {
   "display_name": "Python 3",
   "language": "python",
   "name": "python3"
  },
  "language_info": {
   "codemirror_mode": {
    "name": "ipython",
    "version": 3
   },
   "file_extension": ".py",
   "mimetype": "text/x-python",
   "name": "python",
   "nbconvert_exporter": "python",
   "pygments_lexer": "ipython3",
   "version": "3.9.7"
  }
 },
 "nbformat": 4,
 "nbformat_minor": 5
}
